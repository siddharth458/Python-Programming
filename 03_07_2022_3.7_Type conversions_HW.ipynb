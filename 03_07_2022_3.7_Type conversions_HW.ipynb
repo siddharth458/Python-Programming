{
 "cells": [
  {
   "cell_type": "code",
   "execution_count": 3,
   "id": "24f191a5",
   "metadata": {},
   "outputs": [
    {
     "name": "stdout",
     "output_type": "stream",
     "text": [
      "3\n",
      "4\n",
      "Number of owls: 7\n"
     ]
    }
   ],
   "source": [
    "total_owls = 0\n",
    "\n",
    "num_owls_A = input()\n",
    "num_owls_B = input()\n",
    "\n",
    "total_owls = (int (num_owls_A)) + int ((num_owls_B))\n",
    "\n",
    "print('Number of owls:', total_owls)"
   ]
  },
  {
   "cell_type": "code",
   "execution_count": 4,
   "id": "97b7f7c1",
   "metadata": {},
   "outputs": [
    {
     "name": "stdout",
     "output_type": "stream",
     "text": [
      "Enter score on Exam 1 (out of 100):\n",
      "70\n",
      "Enter score on Exam 2 (out of 100):\n",
      "75\n",
      "Enter score on Exam 3 (out of 100):\n",
      "91\n",
      "Your overall grade is: 78.66666666666667\n"
     ]
    }
   ],
   "source": [
    "exam1_grade = float(input('Enter score on Exam 1 (out of 100):\\n'))\n",
    "exam2_grade = float(input('Enter score on Exam 2 (out of 100):\\n'))\n",
    "exam3_grade = float(input('Enter score on Exam 3 (out of 100):\\n'))\n",
    "\n",
    "overall_grade = (exam1_grade + exam2_grade + exam3_grade) / 3\n",
    "\n",
    "print('Your overall grade is:', overall_grade)\n"
   ]
  },
  {
   "cell_type": "code",
   "execution_count": 6,
   "id": "c2dae8e0",
   "metadata": {},
   "outputs": [
    {
     "name": "stdout",
     "output_type": "stream",
     "text": [
      "Enter score on Exam 1 (out of 50):\n",
      "70\n",
      "Enter score on Exam 2 (out of 50):\n",
      "75\n",
      "Enter score on Exam 3 (out of 50):\n",
      "91\n",
      "Your overall percentage grade is: 472.0\n"
     ]
    }
   ],
   "source": [
    "exam1_grade = float(input('Enter score on Exam 1 (out of 50):\\n'))\n",
    "exam2_grade = float(input('Enter score on Exam 2 (out of 50):\\n'))\n",
    "exam3_grade = float(input('Enter score on Exam 3 (out of 50):\\n'))\n",
    "\n",
    "percentage_grade = ((exam1_grade/50) + (exam2_grade/50) + (exam3_grade/50))*100\n",
    "\n",
    "print('Your overall percentage grade is:', percentage_grade)"
   ]
  },
  {
   "cell_type": "code",
   "execution_count": 12,
   "id": "485de3da",
   "metadata": {},
   "outputs": [
    {
     "name": "stdout",
     "output_type": "stream",
     "text": [
      "Enter user age: 62\n",
      "item_discount with 15\n"
     ]
    }
   ],
   "source": [
    "user_age = 0\n",
    "\n",
    "user_age = int(input('Enter user age: '))\n",
    "\n",
    "if user_age == 62:\n",
    "    print('item_discount with 15')\n",
    "    user_age = user_age * 0.15\n",
    "else:\n",
    "    print('item_discount with 0')"
   ]
  },
  {
   "cell_type": "code",
   "execution_count": 19,
   "id": "e7efaeb4",
   "metadata": {},
   "outputs": [
    {
     "name": "stdout",
     "output_type": "stream",
     "text": [
      "-14\n",
      "-14\n"
     ]
    }
   ],
   "source": [
    "num_difference = int(input())  # Program will be tested with values: -14, -15, -16, -17.\n",
    "\n",
    "if num_difference == -16:\n",
    "    total_difference = -25\n",
    "else:\n",
    "    total_difference = num_difference\n",
    "   \n",
    "\n",
    "print(total_difference)\n"
   ]
  },
  {
   "cell_type": "code",
   "execution_count": 24,
   "id": "35af9293",
   "metadata": {},
   "outputs": [
    {
     "name": "stdout",
     "output_type": "stream",
     "text": [
      "2022\n",
      "21st century\n"
     ]
    }
   ],
   "source": [
    "year = int(input())\n",
    "\n",
    "if year >= 2101:\n",
    "   print('Distant future')\n",
    "elif year >= 2001:\n",
    "   print(\"21st century\")\n",
    "elif year >= 1901:\n",
    "   print(\"20th century\")\n",
    "else:\n",
    "    print(\"Long ago\")"
   ]
  },
  {
   "cell_type": "code",
   "execution_count": 10,
   "id": "b13ad538",
   "metadata": {},
   "outputs": [
    {
     "name": "stdout",
     "output_type": "stream",
     "text": [
      "10\n",
      "not in high school\n"
     ]
    }
   ],
   "source": [
    "user_grade = int(input())\n",
    "if user_grade >=12:\n",
    "    print('in high school')\n",
    "else:\n",
    "    print('not in high school')"
   ]
  }
 ],
 "metadata": {
  "kernelspec": {
   "display_name": "Python 3 (ipykernel)",
   "language": "python",
   "name": "python3"
  },
  "language_info": {
   "codemirror_mode": {
    "name": "ipython",
    "version": 3
   },
   "file_extension": ".py",
   "mimetype": "text/x-python",
   "name": "python",
   "nbconvert_exporter": "python",
   "pygments_lexer": "ipython3",
   "version": "3.9.12"
  }
 },
 "nbformat": 4,
 "nbformat_minor": 5
}
